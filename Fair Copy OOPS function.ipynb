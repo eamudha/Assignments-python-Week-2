{
 "cells": [
  {
   "cell_type": "code",
   "execution_count": null,
   "id": "dd32e0f2",
   "metadata": {},
   "outputs": [],
   "source": [
    "#Call multiple functions from another file"
   ]
  },
  {
   "cell_type": "code",
   "execution_count": 4,
   "id": "202ac6a3",
   "metadata": {},
   "outputs": [],
   "source": [
    "from MultipleLibrary import multipleFunctions"
   ]
  },
  {
   "cell_type": "code",
   "execution_count": 7,
   "id": "89acc730",
   "metadata": {},
   "outputs": [
    {
     "name": "stdout",
     "output_type": "stream",
     "text": [
      "Your Gender:Female\n",
      "Your Age:12\n",
      "NOT ELIGIBLE\n"
     ]
    }
   ],
   "source": [
    "multipleFunctions.ElegibilityForMarriage()"
   ]
  },
  {
   "cell_type": "code",
   "execution_count": 8,
   "id": "cc51bd7d",
   "metadata": {},
   "outputs": [
    {
     "name": "stdout",
     "output_type": "stream",
     "text": [
      "Subject 1=60\n",
      "Subject 2=56\n",
      "Subject 3=45\n",
      "Subject 4=67\n",
      "Subject 5=89\n",
      "Total: 317\n",
      "Percentage: 63.4\n"
     ]
    },
    {
     "data": {
      "text/plain": [
       "'percentage'"
      ]
     },
     "execution_count": 8,
     "metadata": {},
     "output_type": "execute_result"
    }
   ],
   "source": [
    "multipleFunctions.percentage()"
   ]
  },
  {
   "cell_type": "code",
   "execution_count": 9,
   "id": "b1f015a8",
   "metadata": {},
   "outputs": [
    {
     "name": "stdout",
     "output_type": "stream",
     "text": [
      "Enter a Number34\n",
      "34 is Even Number\n"
     ]
    }
   ],
   "source": [
    "multipleFunctions.OddEven()"
   ]
  },
  {
   "cell_type": "code",
   "execution_count": 10,
   "id": "6573c8d7",
   "metadata": {},
   "outputs": [
    {
     "name": "stdout",
     "output_type": "stream",
     "text": [
      "Height:12\n",
      "Breadth:11\n",
      "Area of Triangle: 66.0\n"
     ]
    },
    {
     "data": {
      "text/plain": [
       "66.0"
      ]
     },
     "execution_count": 10,
     "metadata": {},
     "output_type": "execute_result"
    }
   ],
   "source": [
    "multipleFunctions.areaOfTriangle()"
   ]
  },
  {
   "cell_type": "code",
   "execution_count": 11,
   "id": "9f79b09c",
   "metadata": {},
   "outputs": [
    {
     "name": "stdout",
     "output_type": "stream",
     "text": [
      "Height:12\n",
      "Breadth:11\n",
      "Length:14\n",
      "Perimeter of Triangle: 37\n"
     ]
    },
    {
     "data": {
      "text/plain": [
       "37"
      ]
     },
     "execution_count": 11,
     "metadata": {},
     "output_type": "execute_result"
    }
   ],
   "source": [
    "multipleFunctions.perimeterOfTriangle()"
   ]
  },
  {
   "cell_type": "code",
   "execution_count": 12,
   "id": "81d17ee6",
   "metadata": {},
   "outputs": [
    {
     "name": "stdout",
     "output_type": "stream",
     "text": [
      "Subfields in AI are:\n",
      "Machine Learning\n",
      "Neural Network\n",
      "Vision\n",
      "Robotics\n",
      "Speech Processiong\n",
      "Natural Language Processing\n"
     ]
    },
    {
     "data": {
      "text/plain": [
       "('Machine Learning',\n",
       " 'Neural Network',\n",
       " 'Vision',\n",
       " 'Robotics',\n",
       " 'Speech Processiong',\n",
       " 'Natural Language Processing')"
      ]
     },
     "execution_count": 12,
     "metadata": {},
     "output_type": "execute_result"
    }
   ],
   "source": [
    "multipleFunctions.subfields()"
   ]
  },
  {
   "cell_type": "code",
   "execution_count": null,
   "id": "d79d646b",
   "metadata": {},
   "outputs": [],
   "source": []
  },
  {
   "cell_type": "code",
   "execution_count": null,
   "id": "033ac5a0",
   "metadata": {},
   "outputs": [],
   "source": []
  },
  {
   "cell_type": "code",
   "execution_count": null,
   "id": "44c8e588",
   "metadata": {},
   "outputs": [],
   "source": []
  }
 ],
 "metadata": {
  "kernelspec": {
   "display_name": "Python 3 (ipykernel)",
   "language": "python",
   "name": "python3"
  },
  "language_info": {
   "codemirror_mode": {
    "name": "ipython",
    "version": 3
   },
   "file_extension": ".py",
   "mimetype": "text/x-python",
   "name": "python",
   "nbconvert_exporter": "python",
   "pygments_lexer": "ipython3",
   "version": "3.11.5"
  }
 },
 "nbformat": 4,
 "nbformat_minor": 5
}
