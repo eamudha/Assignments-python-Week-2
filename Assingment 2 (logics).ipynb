{
 "cells": [
  {
   "cell_type": "markdown",
   "id": "40a59838",
   "metadata": {},
   "source": [
    "LOGICS-FIND EVEN OR ODD"
   ]
  },
  {
   "cell_type": "code",
   "execution_count": 17,
   "id": "34b5c16a",
   "metadata": {},
   "outputs": [
    {
     "name": "stdout",
     "output_type": "stream",
     "text": [
      "19 is Odd\n",
      "25 is Odd\n",
      "1 is Odd\n"
     ]
    }
   ],
   "source": [
    "lists=[20,10,16,19,25,1,276,188]\n",
    "for num in lists:\n",
    "    if(num%2==1):\n",
    "        print(num,\"is Odd\")"
   ]
  },
  {
   "cell_type": "code",
   "execution_count": 18,
   "id": "262f435c",
   "metadata": {},
   "outputs": [
    {
     "name": "stdout",
     "output_type": "stream",
     "text": [
      "20 is Even\n",
      "10 is Even\n",
      "16 is Even\n",
      "276 is Even\n",
      "188 is Even\n"
     ]
    }
   ],
   "source": [
    "ists=[20,10,16,19,25,1,276,188]\n",
    "for num in lists:\n",
    "    if(num%2==0):\n",
    "        print(num,\"is Even\")"
   ]
  },
  {
   "cell_type": "code",
   "execution_count": null,
   "id": "5ff33d3c",
   "metadata": {},
   "outputs": [],
   "source": []
  }
 ],
 "metadata": {
  "kernelspec": {
   "display_name": "Python 3 (ipykernel)",
   "language": "python",
   "name": "python3"
  },
  "language_info": {
   "codemirror_mode": {
    "name": "ipython",
    "version": 3
   },
   "file_extension": ".py",
   "mimetype": "text/x-python",
   "name": "python",
   "nbconvert_exporter": "python",
   "pygments_lexer": "ipython3",
   "version": "3.11.5"
  }
 },
 "nbformat": 4,
 "nbformat_minor": 5
}
