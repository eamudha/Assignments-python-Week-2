{
 "cells": [
  {
   "cell_type": "code",
   "execution_count": 6,
   "id": "9c443258",
   "metadata": {},
   "outputs": [],
   "source": [
    "def Agecategory():\n",
    "        if(age<18):\n",
    "            print(\"Children\")\n",
    "            cate=('children')\n",
    "        elif(age<35):\n",
    "            print(\"Adult\")\n",
    "            cate=('Adult')\n",
    "        elif(age<60):\n",
    "            print(\"Citizen\")\n",
    "            cate=('Citizen')\n",
    "        else:\n",
    "            print(\"Sr Citizen\")\n",
    "            cate=('Sr Cititzen')\n",
    "        return cate"
   ]
  },
  {
   "cell_type": "code",
   "execution_count": 9,
   "id": "c8d44e22",
   "metadata": {},
   "outputs": [
    {
     "name": "stdout",
     "output_type": "stream",
     "text": [
      "Enter the Age:13\n",
      "Children\n"
     ]
    }
   ],
   "source": [
    "age=int(input(\"Enter the Age:\"))\n",
    "Age=Agecategory()"
   ]
  },
  {
   "cell_type": "code",
   "execution_count": 11,
   "id": "5df784f6",
   "metadata": {},
   "outputs": [],
   "source": [
    "def AgecategoryNoR():\n",
    "        if(age<18):\n",
    "            print(\"Children\")\n",
    "            cate=('children')\n",
    "        elif(age<35):\n",
    "            print(\"Adult\")\n",
    "            cate=('Adult')\n",
    "        elif(age<60):\n",
    "            print(\"Citizen\")\n",
    "            cate=('Citizen')\n",
    "        else:\n",
    "            print(\"Sr Citizen\")\n",
    "            cate=('Sr Cititzen')"
   ]
  },
  {
   "cell_type": "code",
   "execution_count": 13,
   "id": "b717eeb8",
   "metadata": {},
   "outputs": [
    {
     "name": "stdout",
     "output_type": "stream",
     "text": [
      "Enter the Age:34\n",
      "Adult\n"
     ]
    }
   ],
   "source": [
    "age=int(input(\"Enter the Age:\"))\n",
    "Agecate=AgecategoryNoR()"
   ]
  },
  {
   "cell_type": "code",
   "execution_count": 14,
   "id": "1ab9c277",
   "metadata": {},
   "outputs": [
    {
     "name": "stdout",
     "output_type": "stream",
     "text": [
      "None\n"
     ]
    }
   ],
   "source": [
    "print(Agecate)"
   ]
  },
  {
   "cell_type": "markdown",
   "id": "90fd674a",
   "metadata": {},
   "source": [
    "THIS MEANS WITHOUT RETURN STATEMENT THE OUTPUT IS NONE ONLY"
   ]
  },
  {
   "cell_type": "code",
   "execution_count": 15,
   "id": "d5e71f72",
   "metadata": {},
   "outputs": [
    {
     "name": "stdout",
     "output_type": "stream",
     "text": [
      "Enter the Age:23\n",
      "Adult\n"
     ]
    }
   ],
   "source": [
    "age=int(input(\"Enter the Age:\"))\n",
    "AgeDesk=Agecategory()"
   ]
  },
  {
   "cell_type": "code",
   "execution_count": null,
   "id": "1fab310f",
   "metadata": {},
   "outputs": [],
   "source": []
  },
  {
   "cell_type": "code",
   "execution_count": null,
   "id": "54c8053a",
   "metadata": {},
   "outputs": [],
   "source": []
  },
  {
   "cell_type": "code",
   "execution_count": null,
   "id": "ab096168",
   "metadata": {},
   "outputs": [],
   "source": []
  },
  {
   "cell_type": "code",
   "execution_count": null,
   "id": "49e711c1",
   "metadata": {},
   "outputs": [],
   "source": []
  }
 ],
 "metadata": {
  "kernelspec": {
   "display_name": "Python 3 (ipykernel)",
   "language": "python",
   "name": "python3"
  },
  "language_info": {
   "codemirror_mode": {
    "name": "ipython",
    "version": 3
   },
   "file_extension": ".py",
   "mimetype": "text/x-python",
   "name": "python",
   "nbconvert_exporter": "python",
   "pygments_lexer": "ipython3",
   "version": "3.11.5"
  }
 },
 "nbformat": 4,
 "nbformat_minor": 5
}
