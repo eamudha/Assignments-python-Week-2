{
 "cells": [
  {
   "cell_type": "code",
   "execution_count": 6,
   "id": "9c443258",
   "metadata": {},
   "outputs": [],
   "source": [
    "def Agecategory():\n",
    "        if(age<18):\n",
    "            print(\"Children\")\n",
    "            cate=('children')\n",
    "        elif(age<35):\n",
    "            print(\"Adult\")\n",
    "            cate=('Adult')\n",
    "        elif(age<60):\n",
    "            print(\"Citizen\")\n",
    "            cate=('Citizen')\n",
    "        else:\n",
    "            print(\"Sr Citizen\")\n",
    "            cate=('Sr Cititzen')\n",
    "        return cate"
   ]
  },
  {
   "cell_type": "code",
   "execution_count": 9,
   "id": "c8d44e22",
   "metadata": {},
   "outputs": [
    {
     "name": "stdout",
     "output_type": "stream",
     "text": [
      "Enter the Age:13\n",
      "Children\n"
     ]
    }
   ],
   "source": [
    "age=int(input(\"Enter the Age:\"))\n",
    "Age=Agecategory()"
   ]
  },
  {
   "cell_type": "code",
   "execution_count": 11,
   "id": "5df784f6",
   "metadata": {},
   "outputs": [],
   "source": [
    "def AgecategoryNoR():\n",
    "        if(age<18):\n",
    "            print(\"Children\")\n",
    "            cate=('children')\n",
    "        elif(age<35):\n",
    "            print(\"Adult\")\n",
    "            cate=('Adult')\n",
    "        elif(age<60):\n",
    "            print(\"Citizen\")\n",
    "            cate=('Citizen')\n",
    "        else:\n",
    "            print(\"Sr Citizen\")\n",
    "            cate=('Sr Cititzen')"
   ]
  },
  {
   "cell_type": "code",
   "execution_count": 13,
   "id": "b717eeb8",
   "metadata": {},
   "outputs": [
    {
     "name": "stdout",
     "output_type": "stream",
     "text": [
      "Enter the Age:34\n",
      "Adult\n"
     ]
    }
   ],
   "source": [
    "age=int(input(\"Enter the Age:\"))\n",
    "Agecate=AgecategoryNoR()"
   ]
  },
  {
   "cell_type": "code",
   "execution_count": 14,
   "id": "1ab9c277",
   "metadata": {},
   "outputs": [
    {
     "name": "stdout",
     "output_type": "stream",
     "text": [
      "None\n"
     ]
    }
   ],
   "source": [
    "print(Agecate)"
   ]
  },
  {
   "cell_type": "markdown",
   "id": "90fd674a",
   "metadata": {},
   "source": [
    "THIS MEANS WITHOUT RETURN STATEMENT THE OUTPUT IS NONE ONLY"
   ]
  },
  {
   "cell_type": "code",
   "execution_count": null,
   "id": "d5e71f72",
   "metadata": {},
   "outputs": [],
   "source": [
    "age=int(input(\"Enter the Age:\"))\n",
    "AgeDesk=Agecategory()"
   ]
  },
  {
   "cell_type": "markdown",
   "id": "0640ded5",
   "metadata": {},
   "source": [
    "Next Call Function"
   ]
  },
  {
   "cell_type": "code",
   "execution_count": 2,
   "id": "147e7c47",
   "metadata": {},
   "outputs": [],
   "source": [
    "def oddEven():\n",
    "    num=int(input(\"Enter the Number:\"))\n",
    "    if num%2==0:\n",
    "        print(\"EVEN NUMBER\")\n",
    "        message='even'\n",
    "    else:\n",
    "        print(\"ODD NUMBER\") \n",
    "        message='even'\n",
    "    return message"
   ]
  },
  {
   "cell_type": "code",
   "execution_count": 3,
   "id": "49e711c1",
   "metadata": {},
   "outputs": [
    {
     "name": "stdout",
     "output_type": "stream",
     "text": [
      "Enter the Number:34\n",
      "EVEN NUMBER\n"
     ]
    },
    {
     "data": {
      "text/plain": [
       "'even'"
      ]
     },
     "execution_count": 3,
     "metadata": {},
     "output_type": "execute_result"
    }
   ],
   "source": [
    "oddEven()"
   ]
  },
  {
   "cell_type": "code",
   "execution_count": 7,
   "id": "5298bb87",
   "metadata": {},
   "outputs": [
    {
     "name": "stdout",
     "output_type": "stream",
     "text": [
      "Enter the Number:33\n",
      "ODD NUMBER\n"
     ]
    }
   ],
   "source": [
    "message=oddEven()"
   ]
  },
  {
   "cell_type": "code",
   "execution_count": 8,
   "id": "defe183b",
   "metadata": {},
   "outputs": [
    {
     "name": "stdout",
     "output_type": "stream",
     "text": [
      "The number is Odd number\n"
     ]
    }
   ],
   "source": [
    "if (message==\"EVEN NUMBER\"):\n",
    "    print(\"The number is Even number\")\n",
    "else:\n",
    "    print(\"The number is Odd number\")"
   ]
  },
  {
   "cell_type": "markdown",
   "id": "aa92ea2c",
   "metadata": {},
   "source": [
    "NOW WE CALL THE FUNCTION BY THIS NAME: oddEven()"
   ]
  },
  {
   "cell_type": "markdown",
   "id": "16530148",
   "metadata": {},
   "source": [
    "FUNTION 5 BMI"
   ]
  },
  {
   "cell_type": "code",
   "execution_count": 20,
   "id": "31e30e02",
   "metadata": {},
   "outputs": [],
   "source": [
    "def BMI():\n",
    "    weight=int(input(\"Enter the Weight:\"))\n",
    "    if(weight<=18.5):\n",
    "        print(\"Under Weight\")\n",
    "        message==\"Under Wgt\"\n",
    "    elif(weight<=24.5):\n",
    "        print(\"Normal Range\")\n",
    "        message==\"Normal\"\n",
    "    elif(weight<=29.5):\n",
    "        print(\"Over Weight\")\n",
    "        message==\"Over Wgt\"\n",
    "    elif(weight<=30):\n",
    "        print(\"Obese\")\n",
    "        message==\"Obse\"\n",
    "    else:\n",
    "        print(\"Over Weight\")\n",
    "        message==\"Over Wgt\"\n",
    "    return message"
   ]
  },
  {
   "cell_type": "code",
   "execution_count": 18,
   "id": "be373771",
   "metadata": {},
   "outputs": [
    {
     "name": "stdout",
     "output_type": "stream",
     "text": [
      "Enter the Weight:56\n",
      "Over Weight\n"
     ]
    }
   ],
   "source": [
    "bmi=BMI()"
   ]
  },
  {
   "cell_type": "markdown",
   "id": "7e633fc6",
   "metadata": {},
   "source": [
    "PARAMETRISED FUNCTION"
   ]
  },
  {
   "cell_type": "code",
   "execution_count": 21,
   "id": "d7eea31d",
   "metadata": {},
   "outputs": [],
   "source": [
    "def addition(num1,num2):\n",
    "    add=num1+num2\n",
    "    return add"
   ]
  },
  {
   "cell_type": "code",
   "execution_count": 23,
   "id": "f9b89e40",
   "metadata": {},
   "outputs": [
    {
     "data": {
      "text/plain": [
       "13"
      ]
     },
     "execution_count": 23,
     "metadata": {},
     "output_type": "execute_result"
    }
   ],
   "source": [
    "addition(6,7)"
   ]
  },
  {
   "cell_type": "markdown",
   "id": "b31692c4",
   "metadata": {},
   "source": [
    "Here we never give input variable instead using in parameters of definition"
   ]
  },
  {
   "cell_type": "code",
   "execution_count": 25,
   "id": "c6535c88",
   "metadata": {},
   "outputs": [],
   "source": [
    "def subtraction(num1,num2):\n",
    "    sub=num1-num2\n",
    "    return sub"
   ]
  },
  {
   "cell_type": "code",
   "execution_count": 26,
   "id": "3106f304",
   "metadata": {},
   "outputs": [
    {
     "data": {
      "text/plain": [
       "-1"
      ]
     },
     "execution_count": 26,
     "metadata": {},
     "output_type": "execute_result"
    }
   ],
   "source": [
    "subtraction(7,8)"
   ]
  },
  {
   "cell_type": "code",
   "execution_count": null,
   "id": "efc0437e",
   "metadata": {},
   "outputs": [],
   "source": []
  },
  {
   "cell_type": "code",
   "execution_count": null,
   "id": "b6b0a622",
   "metadata": {},
   "outputs": [],
   "source": []
  }
 ],
 "metadata": {
  "kernelspec": {
   "display_name": "Python 3 (ipykernel)",
   "language": "python",
   "name": "python3"
  },
  "language_info": {
   "codemirror_mode": {
    "name": "ipython",
    "version": 3
   },
   "file_extension": ".py",
   "mimetype": "text/x-python",
   "name": "python",
   "nbconvert_exporter": "python",
   "pygments_lexer": "ipython3",
   "version": "3.11.5"
  }
 },
 "nbformat": 4,
 "nbformat_minor": 5
}
