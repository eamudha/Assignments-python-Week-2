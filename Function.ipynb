{
 "cells": [
  {
   "cell_type": "markdown",
   "id": "505ca4bb",
   "metadata": {},
   "source": [
    "FUNCTION"
   ]
  },
  {
   "cell_type": "code",
   "execution_count": 1,
   "id": "1c0845c2",
   "metadata": {},
   "outputs": [],
   "source": [
    "def addition(a,b):\n",
    "    addition=a+b\n",
    "    return addition"
   ]
  },
  {
   "cell_type": "code",
   "execution_count": null,
   "id": "ed2e42c1",
   "metadata": {},
   "outputs": [],
   "source": [
    "def subtraction(a,b):\n",
    "    sub=a-b\n",
    "    return sub"
   ]
  },
  {
   "cell_type": "code",
   "execution_count": 2,
   "id": "2c72ba39",
   "metadata": {},
   "outputs": [],
   "source": [
    "def multiplication(a,b):\n",
    "    mul=a*b\n",
    "    return mul"
   ]
  },
  {
   "cell_type": "code",
   "execution_count": 10,
   "id": "bcdd8dac",
   "metadata": {},
   "outputs": [],
   "source": [
    "lists=[10,30,56,67,60,70,80,98,88]"
   ]
  },
  {
   "cell_type": "code",
   "execution_count": 11,
   "id": "cbc1158f",
   "metadata": {},
   "outputs": [],
   "source": [
    "def GradeMarks():\n",
    "    for marks in lists:\n",
    "        print(marks)\n",
    "        if(marks>=90):\n",
    "            print(\"Grade A\")\n",
    "        elif(marks>=80):\n",
    "            print(\"Grade B\")\n",
    "        elif(marks>=70):\n",
    "            print(\"Grade C\")\n",
    "        elif(marks>=60):\n",
    "            print(\"Grade D\")\n",
    "        else:\n",
    "            print(\"Grade E\")"
   ]
  },
  {
   "cell_type": "code",
   "execution_count": 12,
   "id": "0a244442",
   "metadata": {},
   "outputs": [
    {
     "name": "stdout",
     "output_type": "stream",
     "text": [
      "10\n",
      "Grade E\n",
      "30\n",
      "Grade E\n",
      "56\n",
      "Grade E\n",
      "67\n",
      "Grade D\n",
      "60\n",
      "Grade D\n",
      "70\n",
      "Grade C\n",
      "80\n",
      "Grade B\n",
      "98\n",
      "Grade A\n",
      "88\n",
      "Grade B\n"
     ]
    }
   ],
   "source": [
    "GradeMarks()"
   ]
  },
  {
   "cell_type": "code",
   "execution_count": 13,
   "id": "57e23762",
   "metadata": {},
   "outputs": [],
   "source": [
    "lists=[33,12,21,45,69,80,18]"
   ]
  },
  {
   "cell_type": "code",
   "execution_count": 14,
   "id": "e33c2122",
   "metadata": {},
   "outputs": [],
   "source": [
    "def Agecategory():\n",
    "    for age in lists:\n",
    "        if(age<18):\n",
    "            print(\"Children\")\n",
    "        elif(age<35):\n",
    "            print(\"Adult\")\n",
    "        elif(age<60):\n",
    "            print(\"Citizen\")\n",
    "        else:\n",
    "            print(\"Sr Citizen\")"
   ]
  },
  {
   "cell_type": "code",
   "execution_count": 15,
   "id": "14af77f2",
   "metadata": {},
   "outputs": [
    {
     "name": "stdout",
     "output_type": "stream",
     "text": [
      "Adult\n",
      "Children\n",
      "Adult\n",
      "Citizen\n",
      "Sr Citizen\n",
      "Sr Citizen\n",
      "Adult\n"
     ]
    }
   ],
   "source": [
    "Agecategory()"
   ]
  },
  {
   "cell_type": "markdown",
   "id": "e34dde1d",
   "metadata": {},
   "source": [
    "WITH RETURN STATEMENT NEED VARIABLE NAME"
   ]
  },
  {
   "cell_type": "code",
   "execution_count": 20,
   "id": "abb0ecd4",
   "metadata": {},
   "outputs": [
    {
     "name": "stdout",
     "output_type": "stream",
     "text": [
      "Enter the Age:67\n"
     ]
    }
   ],
   "source": [
    "age=int(input(\"Enter the Age:\"))"
   ]
  },
  {
   "cell_type": "code",
   "execution_count": 25,
   "id": "c3a3e27a",
   "metadata": {},
   "outputs": [],
   "source": [
    "def Agecategory():\n",
    "        if(age<18):\n",
    "            print(\"Children\")\n",
    "            cate=('children')\n",
    "        elif(age<35):\n",
    "            print(\"Adult\")\n",
    "            cate=('Adult')\n",
    "        elif(age<60):\n",
    "            print(\"Citizen\")\n",
    "            cate=('Citizen')\n",
    "        else:\n",
    "            print(\"Sr Citizen\")\n",
    "            cate=('Sr Cititzen')\n",
    "        return cate\n",
    "        tell"
   ]
  },
  {
   "cell_type": "code",
   "execution_count": 26,
   "id": "eaeeb7cd",
   "metadata": {},
   "outputs": [
    {
     "name": "stdout",
     "output_type": "stream",
     "text": [
      "Sr Citizen\n"
     ]
    },
    {
     "data": {
      "text/plain": [
       "'Sr Cititzen'"
      ]
     },
     "execution_count": 26,
     "metadata": {},
     "output_type": "execute_result"
    }
   ],
   "source": [
    "Agecategory()"
   ]
  },
  {
   "cell_type": "code",
   "execution_count": 27,
   "id": "a923404e",
   "metadata": {},
   "outputs": [
    {
     "name": "stdout",
     "output_type": "stream",
     "text": [
      "Sr Citizen\n"
     ]
    }
   ],
   "source": [
    "cate=Agecategory()"
   ]
  },
  {
   "cell_type": "code",
   "execution_count": 28,
   "id": "ed3adde0",
   "metadata": {},
   "outputs": [
    {
     "data": {
      "text/plain": [
       "'Sr Cititzen'"
      ]
     },
     "execution_count": 28,
     "metadata": {},
     "output_type": "execute_result"
    }
   ],
   "source": [
    "cate"
   ]
  },
  {
   "cell_type": "code",
   "execution_count": null,
   "id": "70c6c879",
   "metadata": {},
   "outputs": [],
   "source": []
  }
 ],
 "metadata": {
  "kernelspec": {
   "display_name": "Python 3 (ipykernel)",
   "language": "python",
   "name": "python3"
  },
  "language_info": {
   "codemirror_mode": {
    "name": "ipython",
    "version": 3
   },
   "file_extension": ".py",
   "mimetype": "text/x-python",
   "name": "python",
   "nbconvert_exporter": "python",
   "pygments_lexer": "ipython3",
   "version": "3.11.5"
  }
 },
 "nbformat": 4,
 "nbformat_minor": 5
}
