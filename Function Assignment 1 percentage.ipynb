{
 "cells": [
  {
   "cell_type": "code",
   "execution_count": null,
   "id": "441e2152",
   "metadata": {},
   "outputs": [],
   "source": [
    "#Create a function that checks whether the given number is odd or Even"
   ]
  },
  {
   "cell_type": "code",
   "execution_count": null,
   "id": "4feacc65",
   "metadata": {},
   "outputs": [],
   "source": [
    "def OddEven():\n",
    "    num=int(input(\"Enter a Number\"))\n",
    "    if(num%2==0):\n",
    "        print(num,\"is Even Number\")\n",
    "        message=\"Even Number\"\n",
    "    else:\n",
    "        print(num,\"is Odd Number\")\n",
    "        message=\"Odd Number\"\n",
    "        return message"
   ]
  },
  {
   "cell_type": "code",
   "execution_count": null,
   "id": "ba0f14b3",
   "metadata": {},
   "outputs": [],
   "source": [
    "OddEven()"
   ]
  },
  {
   "cell_type": "code",
   "execution_count": null,
   "id": "90887c17",
   "metadata": {},
   "outputs": [],
   "source": [
    "# Create a function that tells elegibility of marriage for male and female according to their age limit like 21 for male and 18 for female"
   ]
  },
  {
   "cell_type": "code",
   "execution_count": 14,
   "id": "69f41966",
   "metadata": {},
   "outputs": [],
   "source": [
    "def ElegibilityForMarriage():\n",
    "    gender=input(\"Your Gender:\")\n",
    "    Age=int(input(\"Your Age:\"))\n",
    "    if(gender==\"Male\",Age>21):\n",
    "        print(\"NOT ELIGIBLE\")\n",
    "        status=('Not Eligible')\n",
    "    elif(gender==\"Female\",Age>18):\n",
    "        print(\"NOT ELIGIBLE\")\n",
    "        status=('Not Eligible')\n",
    "        return status"
   ]
  },
  {
   "cell_type": "code",
   "execution_count": 16,
   "id": "a3266023",
   "metadata": {},
   "outputs": [
    {
     "name": "stdout",
     "output_type": "stream",
     "text": [
      "Your Gender:Male\n",
      "Your Age:20\n",
      "NOT ELIGIBLE\n"
     ]
    }
   ],
   "source": [
    "ElegibilityForMarriage()"
   ]
  },
  {
   "cell_type": "code",
   "execution_count": null,
   "id": "f5a7f180",
   "metadata": {},
   "outputs": [],
   "source": [
    "#Calculate the percentage of 10th mark"
   ]
  },
  {
   "cell_type": "code",
   "execution_count": 37,
   "id": "6050a709",
   "metadata": {},
   "outputs": [],
   "source": [
    "def percentage():\n",
    "    sub1=int(input(\"Subject 1=\"))\n",
    "    sub2=int(input(\"Subject 2=\"))\n",
    "    sub3=int(input(\"Subject 3=\"))\n",
    "    sub4=int(input(\"Subject 4=\"))\n",
    "    sub5=int(input(\"Subject 5=\"))\n",
    "    add=sub1+sub2+sub3+sub4+sub5\n",
    "    percentage=(add)*100/(5*100)\n",
    "    print(\"Total:\",add)\n",
    "    percent=\"add\"\n",
    "    print(\"Percentage:\",percentage)\n",
    "    percent=\"percentage\"\n",
    "    return percent"
   ]
  },
  {
   "cell_type": "code",
   "execution_count": 38,
   "id": "e6ffa813",
   "metadata": {},
   "outputs": [
    {
     "name": "stdout",
     "output_type": "stream",
     "text": [
      "Subject 1=67\n",
      "Subject 2=89\n",
      "Subject 3=99\n",
      "Subject 4=87\n",
      "Subject 5=90\n",
      "Total: 432\n",
      "Percentage: 86.4\n"
     ]
    },
    {
     "data": {
      "text/plain": [
       "'percentage'"
      ]
     },
     "execution_count": 38,
     "metadata": {},
     "output_type": "execute_result"
    }
   ],
   "source": [
    "percentage()"
   ]
  },
  {
   "cell_type": "code",
   "execution_count": null,
   "id": "f91bcbb9",
   "metadata": {},
   "outputs": [],
   "source": [
    "#print area and perimeter of the triangle using class and function"
   ]
  },
  {
   "cell_type": "code",
   "execution_count": 41,
   "id": "920342d2",
   "metadata": {},
   "outputs": [],
   "source": [
    "def areaOfTriangle():\n",
    "    Side1=int(input(\"Height:\"))\n",
    "    Side2=int(input(\"Breadth:\"))\n",
    "    Area=(Side1*Side2)/2\n",
    "    print(\"Area of Triangle:\",Area)\n",
    "    return Area"
   ]
  },
  {
   "cell_type": "code",
   "execution_count": 42,
   "id": "1759b98a",
   "metadata": {},
   "outputs": [
    {
     "name": "stdout",
     "output_type": "stream",
     "text": [
      "Height:12\n",
      "Breadth:34\n",
      "Area of Triangle: 204.0\n"
     ]
    },
    {
     "data": {
      "text/plain": [
       "204.0"
      ]
     },
     "execution_count": 42,
     "metadata": {},
     "output_type": "execute_result"
    }
   ],
   "source": [
    "areaOfTriangle()"
   ]
  },
  {
   "cell_type": "code",
   "execution_count": 43,
   "id": "42256197",
   "metadata": {},
   "outputs": [],
   "source": [
    "def perimeterOfTriangle():\n",
    "    Side1=int(input(\"Height:\"))\n",
    "    Side2=int(input(\"Breadth:\"))\n",
    "    Side3=int(input(\"Length:\"))\n",
    "    Perimeter=Side1+Side2+Side3\n",
    "    print(\"Perimeter of Triangle:\",Perimeter)\n",
    "    return Perimeter"
   ]
  },
  {
   "cell_type": "code",
   "execution_count": 44,
   "id": "b464c900",
   "metadata": {},
   "outputs": [
    {
     "name": "stdout",
     "output_type": "stream",
     "text": [
      "Height:12\n",
      "Breadth:21\n",
      "Length:34\n",
      "Perimeter of Triangle: 67\n"
     ]
    },
    {
     "data": {
      "text/plain": [
       "67"
      ]
     },
     "execution_count": 44,
     "metadata": {},
     "output_type": "execute_result"
    }
   ],
   "source": [
    "perimeterOfTriangle()"
   ]
  },
  {
   "cell_type": "code",
   "execution_count": null,
   "id": "e18d14b1",
   "metadata": {},
   "outputs": [],
   "source": [
    "#Create Function"
   ]
  },
  {
   "cell_type": "code",
   "execution_count": 9,
   "id": "c880fb93",
   "metadata": {},
   "outputs": [],
   "source": [
    "def subfields():\n",
    "    lists='Machine Learning','Neural Network','Vision','Robotics','Speech Processiong','Natural Language Processing'\n",
    "    print(\"Subfields in AI are:\")\n",
    "    for AI in lists:\n",
    "        print(AI)\n",
    "        AI=lists\n",
    "    return AI"
   ]
  },
  {
   "cell_type": "code",
   "execution_count": 10,
   "id": "d67c0427",
   "metadata": {},
   "outputs": [
    {
     "name": "stdout",
     "output_type": "stream",
     "text": [
      "Subfields in AI are:\n",
      "Machine Learning\n",
      "Neural Network\n",
      "Vision\n",
      "Robotics\n",
      "Speech Processiong\n",
      "Natural Language Processing\n"
     ]
    },
    {
     "data": {
      "text/plain": [
       "('Machine Learning',\n",
       " 'Neural Network',\n",
       " 'Vision',\n",
       " 'Robotics',\n",
       " 'Speech Processiong',\n",
       " 'Natural Language Processing')"
      ]
     },
     "execution_count": 10,
     "metadata": {},
     "output_type": "execute_result"
    }
   ],
   "source": [
    "subfields()"
   ]
  },
  {
   "cell_type": "code",
   "execution_count": null,
   "id": "1da052e6",
   "metadata": {},
   "outputs": [],
   "source": []
  },
  {
   "cell_type": "code",
   "execution_count": null,
   "id": "f3b17f29",
   "metadata": {},
   "outputs": [],
   "source": []
  },
  {
   "cell_type": "code",
   "execution_count": null,
   "id": "6877881b",
   "metadata": {},
   "outputs": [],
   "source": []
  }
 ],
 "metadata": {
  "kernelspec": {
   "display_name": "Python 3 (ipykernel)",
   "language": "python",
   "name": "python3"
  },
  "language_info": {
   "codemirror_mode": {
    "name": "ipython",
    "version": 3
   },
   "file_extension": ".py",
   "mimetype": "text/x-python",
   "name": "python",
   "nbconvert_exporter": "python",
   "pygments_lexer": "ipython3",
   "version": "3.11.5"
  }
 },
 "nbformat": 4,
 "nbformat_minor": 5
}
